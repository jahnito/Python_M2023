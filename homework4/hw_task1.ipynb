{
 "cells": [
  {
   "cell_type": "code",
   "execution_count": 1,
   "id": "a2b475d7-4f09-4deb-82c4-bbca5e5673c7",
   "metadata": {},
   "outputs": [],
   "source": [
    "import numpy as np"
   ]
  },
  {
   "cell_type": "code",
   "execution_count": 56,
   "id": "fd2db606-4f00-4466-aac2-96ad93f59e33",
   "metadata": {},
   "outputs": [
    {
     "data": {
      "text/plain": [
       "array([[ -3,   8,   5,   8,  -9,   4,   5,  -2],\n",
       "       [  2,  -4,  -6,  -1,  -3,   4,  -5,  -4],\n",
       "       [  1,  -5,   3,   9,  -6,   4,   2,  -8],\n",
       "       [ -9,  -5,   0,  -6,  -6, -10,  -4,  -2],\n",
       "       [ -5,   3,   3,  -7, -10,   8,  -3,   6],\n",
       "       [ -1,   0,   9,  -9,   0,   4,  -5,  -4],\n",
       "       [ -6,  -1,  -9,  -4,  -2,   0,  -7,   2],\n",
       "       [ -2,  -9,   5,   4,   9,  -9,  -9,   8]])"
      ]
     },
     "execution_count": 56,
     "metadata": {},
     "output_type": "execute_result"
    }
   ],
   "source": [
    "'''\n",
    "Сгенерировать случайным образом матрицу размерностью 8х8 и вывести ее на экран (числа лежат в диапазоне от -10 до 10)\n",
    "'''\n",
    "\n",
    "arr = np.random.randint(-10, 10, (8, 8))\n",
    "\n",
    "arr"
   ]
  },
  {
   "cell_type": "code",
   "execution_count": 57,
   "id": "d241d35a-6bb4-48dc-98c9-a14793e14b06",
   "metadata": {},
   "outputs": [
    {
     "data": {
      "text/plain": [
       "array([[  3,   9,  -6,   4],\n",
       "       [  0,  -6,  -6, -10],\n",
       "       [  3,  -7, -10,   8],\n",
       "       [  9,  -9,   0,   4]])"
      ]
     },
     "execution_count": 57,
     "metadata": {},
     "output_type": "execute_result"
    }
   ],
   "source": [
    "'''\n",
    "Вывести центральную часть матрицы размерностью 4х4.\n",
    "'''\n",
    "arr[2:6, 2:6]"
   ]
  },
  {
   "cell_type": "code",
   "execution_count": 58,
   "id": "cc2f6b49-71ee-4d4c-9fe5-c56016569bbb",
   "metadata": {
    "scrolled": true
   },
   "outputs": [
    {
     "name": "stdout",
     "output_type": "stream",
     "text": [
      "-10\n"
     ]
    }
   ],
   "source": [
    "'''\n",
    "Удалить из исходной матрицы все строки, содержащие минимальный элемент.\n",
    "'''\n",
    "m = arr.min()\n",
    "print(m)"
   ]
  },
  {
   "cell_type": "code",
   "execution_count": 59,
   "id": "b00a74f8-8ffd-4bad-ad45-fbab27d3dbc7",
   "metadata": {},
   "outputs": [
    {
     "data": {
      "text/plain": [
       "array([[-3,  8,  5,  8, -9,  4,  5, -2],\n",
       "       [ 2, -4, -6, -1, -3,  4, -5, -4],\n",
       "       [ 1, -5,  3,  9, -6,  4,  2, -8],\n",
       "       [-1,  0,  9, -9,  0,  4, -5, -4],\n",
       "       [-6, -1, -9, -4, -2,  0, -7,  2],\n",
       "       [-2, -9,  5,  4,  9, -9, -9,  8]])"
      ]
     },
     "execution_count": 59,
     "metadata": {},
     "output_type": "execute_result"
    }
   ],
   "source": [
    "arr = np.delete(arr, [j for j, line in enumerate(arr) if m in line], 0)\n",
    "arr"
   ]
  },
  {
   "cell_type": "code",
   "execution_count": 60,
   "id": "9f76ef14-51f2-46a3-a6ff-ab488b2149c8",
   "metadata": {},
   "outputs": [
    {
     "data": {
      "text/plain": [
       "array([[-10, -10, -10, -10, -10, -10, -10, -10],\n",
       "       [ -3,   8,   5,   8,  -9,   4,   5,  -2],\n",
       "       [  2,  -4,  -6,  -1,  -3,   4,  -5,  -4],\n",
       "       [  1,  -5,   3,   9,  -6,   4,   2,  -8],\n",
       "       [ -1,   0,   9,  -9,   0,   4,  -5,  -4],\n",
       "       [ -6,  -1,  -9,  -4,  -2,   0,  -7,   2],\n",
       "       [ -2,  -9,   5,   4,   9,  -9,  -9,   8]])"
      ]
     },
     "execution_count": 60,
     "metadata": {},
     "output_type": "execute_result"
    }
   ],
   "source": [
    "'''\n",
    "Вставить в матрицу строку из минимального элемента перед первой строкой.\n",
    "'''\n",
    "arr_min = np.full(arr.shape[-1], m)\n",
    "arr = np.insert(arr, 0, arr_min, 0)\n",
    "arr"
   ]
  },
  {
   "cell_type": "code",
   "execution_count": 61,
   "id": "c1ad0f5d-0b02-40be-ae53-bf3d287298f5",
   "metadata": {},
   "outputs": [
    {
     "name": "stdout",
     "output_type": "stream",
     "text": [
      "Сумма элементов массива: -117\n",
      "Среднее арифметическое элементов массива: -2.0892857142857144\n"
     ]
    }
   ],
   "source": [
    "'''\n",
    "Вычислить сумму и среднее арифметическое всех элементов матрицы.\n",
    "'''\n",
    "print('Сумма элементов массива:', arr.sum())\n",
    "print('Среднее арифметическое элементов массива:', arr.mean())"
   ]
  }
 ],
 "metadata": {
  "kernelspec": {
   "display_name": "Python 3 (ipykernel)",
   "language": "python",
   "name": "python3"
  },
  "language_info": {
   "codemirror_mode": {
    "name": "ipython",
    "version": 3
   },
   "file_extension": ".py",
   "mimetype": "text/x-python",
   "name": "python",
   "nbconvert_exporter": "python",
   "pygments_lexer": "ipython3",
   "version": "3.11.2"
  }
 },
 "nbformat": 4,
 "nbformat_minor": 5
}
