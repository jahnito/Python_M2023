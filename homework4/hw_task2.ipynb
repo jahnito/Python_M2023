{
 "cells": [
  {
   "cell_type": "code",
   "execution_count": 2,
   "id": "2e35ba3d-3c41-43bd-8255-f1c611fec565",
   "metadata": {},
   "outputs": [],
   "source": [
    "import numpy as np"
   ]
  },
  {
   "cell_type": "code",
   "execution_count": 83,
   "id": "79514bfe-706c-46a2-a6ae-d54d29e17873",
   "metadata": {},
   "outputs": [
    {
     "data": {
      "text/plain": [
       "array([[4, 5, 4, 3, 4, 5],\n",
       "       [5, 5, 5, 5, 4, 5]])"
      ]
     },
     "execution_count": 83,
     "metadata": {},
     "output_type": "execute_result"
    }
   ],
   "source": [
    "names = np.array(['Вася','Коля','Петя','Вася','Коля'])\n",
    "grade = np.array([[4,5,4,3,4,5],\n",
    "                  [2,3,4,3,2,3],\n",
    "                  [4,4,3,3,2,3],\n",
    "                  [5,5,5,5,4,5],\n",
    "                  [3,3,4,3,4,5]])\n",
    "\n",
    "grade[names == 'Вася']\n"
   ]
  }
 ],
 "metadata": {
  "kernelspec": {
   "display_name": "Python 3 (ipykernel)",
   "language": "python",
   "name": "python3"
  },
  "language_info": {
   "codemirror_mode": {
    "name": "ipython",
    "version": 3
   },
   "file_extension": ".py",
   "mimetype": "text/x-python",
   "name": "python",
   "nbconvert_exporter": "python",
   "pygments_lexer": "ipython3",
   "version": "3.11.2"
  }
 },
 "nbformat": 4,
 "nbformat_minor": 5
}
