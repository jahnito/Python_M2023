{
 "cells": [
  {
   "cell_type": "code",
   "execution_count": 2,
   "id": "14701cf5-8591-45a3-8293-678edcb2024b",
   "metadata": {},
   "outputs": [],
   "source": [
    "import pandas as pd\n",
    "import numpy as np"
   ]
  },
  {
   "cell_type": "code",
   "execution_count": 10,
   "id": "4418d4fe-63cf-4252-8dfd-be2448d3890a",
   "metadata": {},
   "outputs": [
    {
     "data": {
      "text/plain": [
       "{'Ivanov': 7,\n",
       " 'Petrov': 8,\n",
       " 'Orlov': 9,\n",
       " 'Avdeev': 8,\n",
       " 'Sidorov': 9,\n",
       " 'Leonov': 8,\n",
       " 'Gorohov': 7,\n",
       " 'Sokolov': 8,\n",
       " 'Morozov': 8,\n",
       " 'Ketov': 9}"
      ]
     },
     "execution_count": 10,
     "metadata": {},
     "output_type": "execute_result"
    }
   ],
   "source": [
    "'''\n",
    "Прочитать данные из файла a.txt и преобразовать их в словарь (ключ – строкового типа, значение – целое).\n",
    "'''\n",
    "pupils = {}\n",
    "\n",
    "with open('a.txt', 'r') as f:\n",
    "    for line in f:\n",
    "        k, v = line.split()\n",
    "        pupils[k] = int(v)\n",
    "\n",
    "pupils"
   ]
  },
  {
   "cell_type": "code",
   "execution_count": 13,
   "id": "b9eea218-ce95-4072-96f2-9177a1fe0d31",
   "metadata": {},
   "outputs": [
    {
     "name": "stdout",
     "output_type": "stream",
     "text": [
      "Ivanov     7\n",
      "Petrov     8\n",
      "Orlov      9\n",
      "Avdeev     8\n",
      "Sidorov    9\n",
      "Leonov     8\n",
      "Gorohov    7\n",
      "Sokolov    8\n",
      "Morozov    8\n",
      "Ketov      9\n",
      "dtype: int64\n"
     ]
    }
   ],
   "source": [
    "'''\n",
    "Занести данные из словаря в объект Series.\n",
    "\n",
    "Вывести данные на экран\n",
    "'''\n",
    "\n",
    "s1 = pd.Series(pupils)\n",
    "print(s1)"
   ]
  },
  {
   "cell_type": "code",
   "execution_count": 15,
   "id": "76660fde-6129-420f-b376-cb4489d030cf",
   "metadata": {},
   "outputs": [
    {
     "data": {
      "text/plain": [
       "Petrov     8\n",
       "Avdeev     8\n",
       "Leonov     8\n",
       "Sokolov    8\n",
       "Morozov    8\n",
       "dtype: int64"
      ]
     },
     "execution_count": 15,
     "metadata": {},
     "output_type": "execute_result"
    }
   ],
   "source": [
    "'''\n",
    "Отобразить столбиком только  фамилии учеников 8 класса\n",
    "'''\n",
    "s1[s1 == 8]"
   ]
  },
  {
   "cell_type": "code",
   "execution_count": 17,
   "id": "8cd2f891-5762-45a6-9669-6ef9d14bd8c7",
   "metadata": {},
   "outputs": [
    {
     "data": {
      "text/plain": [
       "Ivanov      8\n",
       "Petrov      9\n",
       "Orlov      10\n",
       "Avdeev      9\n",
       "Sidorov    10\n",
       "Leonov      9\n",
       "Gorohov     8\n",
       "Sokolov     9\n",
       "Morozov     9\n",
       "Ketov      10\n",
       "dtype: int64"
      ]
     },
     "execution_count": 17,
     "metadata": {},
     "output_type": "execute_result"
    }
   ],
   "source": [
    "'''\n",
    "«Перевести» всех учеников в следующий класс и вывести данные на экран\n",
    "'''\n",
    "s1 + 1"
   ]
  },
  {
   "cell_type": "code",
   "execution_count": 24,
   "id": "4525c477-a418-4706-b96c-ac4356cbc3fc",
   "metadata": {
    "scrolled": true
   },
   "outputs": [
    {
     "data": {
      "text/plain": [
       "8    5\n",
       "9    3\n",
       "7    2\n",
       "Name: count, dtype: int64"
      ]
     },
     "execution_count": 24,
     "metadata": {},
     "output_type": "execute_result"
    }
   ],
   "source": [
    "'''\n",
    "Посчитать количество учеников в каждом классе и вывести данные на экран\n",
    "'''\n",
    "s1.value_counts()"
   ]
  },
  {
   "cell_type": "code",
   "execution_count": 34,
   "id": "dc03876f-5464-4d0e-98b9-1918be51ee56",
   "metadata": {},
   "outputs": [
    {
     "name": "stdout",
     "output_type": "stream",
     "text": [
      "8\n",
      "8\n"
     ]
    }
   ],
   "source": [
    "'''\n",
    "Вывести информацию об учениках с фамилиями Авдеев и Леонов.\n",
    "'''\n",
    "for i in ['Avdeev', 'Leonov']:\n",
    "        print(s1[i])"
   ]
  }
 ],
 "metadata": {
  "kernelspec": {
   "display_name": "Python 3 (ipykernel)",
   "language": "python",
   "name": "python3"
  },
  "language_info": {
   "codemirror_mode": {
    "name": "ipython",
    "version": 3
   },
   "file_extension": ".py",
   "mimetype": "text/x-python",
   "name": "python",
   "nbconvert_exporter": "python",
   "pygments_lexer": "ipython3",
   "version": "3.11.2"
  }
 },
 "nbformat": 4,
 "nbformat_minor": 5
}
