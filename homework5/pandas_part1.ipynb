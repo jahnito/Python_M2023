{
 "cells": [
  {
   "cell_type": "code",
   "execution_count": 1,
   "id": "b76cb162-05a8-4b3c-bdea-411d42ea7ddf",
   "metadata": {},
   "outputs": [],
   "source": [
    "import pandas as pd\n",
    "import numpy as np"
   ]
  },
  {
   "cell_type": "code",
   "execution_count": 2,
   "id": "0151f966-9cd4-451f-a3e3-c8fc064e95a1",
   "metadata": {},
   "outputs": [
    {
     "name": "stdout",
     "output_type": "stream",
     "text": [
      "0    a\n",
      "1    b\n",
      "2    c\n",
      "dtype: object\n"
     ]
    }
   ],
   "source": [
    "s1 = pd.Series(['a', 'b', 'c'])\n",
    "print(s1)"
   ]
  },
  {
   "cell_type": "code",
   "execution_count": 3,
   "id": "aaaf534e-678f-4c38-8389-789c2c1c5b8c",
   "metadata": {},
   "outputs": [
    {
     "name": "stdout",
     "output_type": "stream",
     "text": [
      "1    a\n",
      "2    b\n",
      "3    c\n",
      "dtype: object\n"
     ]
    }
   ],
   "source": [
    "s2 = pd.Series(data=['a', 'b', 'c'], index=[1, 2, 3])\n",
    "print(s2)"
   ]
  },
  {
   "cell_type": "code",
   "execution_count": 4,
   "id": "5ef7884f-088d-4b79-9af4-0b9a4a83827d",
   "metadata": {},
   "outputs": [
    {
     "name": "stdout",
     "output_type": "stream",
     "text": [
      "a    1\n",
      "b    2\n",
      "c    3\n",
      "dtype: int64\n"
     ]
    }
   ],
   "source": [
    "s3 = pd.Series([1,2,3],['a','b','c'])\n",
    "print(s3)"
   ]
  },
  {
   "cell_type": "code",
   "execution_count": 5,
   "id": "929a35b1-646d-4ad5-89e6-511ef41ce6a2",
   "metadata": {},
   "outputs": [
    {
     "name": "stdout",
     "output_type": "stream",
     "text": [
      "a    1.0\n",
      "b    2.5\n",
      "c    5.9\n",
      "d    6.0\n",
      "dtype: float64\n"
     ]
    }
   ],
   "source": [
    "s4 = pd.Series({'a':1,'b':2.5,'c':5.9,'d':6})\n",
    "print(s4)"
   ]
  },
  {
   "cell_type": "code",
   "execution_count": 7,
   "id": "2954f0cc-b0ed-407f-bf33-9e89717b9a2d",
   "metadata": {},
   "outputs": [
    {
     "data": {
      "text/plain": [
       "0    1\n",
       "1    4\n",
       "2    6\n",
       "3    7\n",
       "dtype: int64"
      ]
     },
     "execution_count": 7,
     "metadata": {},
     "output_type": "execute_result"
    }
   ],
   "source": [
    "arr = np.array([1, 4, 6, 7])\n",
    "s5 = pd.Series(arr)\n",
    "s5"
   ]
  }
 ],
 "metadata": {
  "kernelspec": {
   "display_name": "Python 3 (ipykernel)",
   "language": "python",
   "name": "python3"
  },
  "language_info": {
   "codemirror_mode": {
    "name": "ipython",
    "version": 3
   },
   "file_extension": ".py",
   "mimetype": "text/x-python",
   "name": "python",
   "nbconvert_exporter": "python",
   "pygments_lexer": "ipython3",
   "version": "3.11.2"
  }
 },
 "nbformat": 4,
 "nbformat_minor": 5
}
